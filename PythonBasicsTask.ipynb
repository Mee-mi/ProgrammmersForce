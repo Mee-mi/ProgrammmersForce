{
  "nbformat": 4,
  "nbformat_minor": 0,
  "metadata": {
    "colab": {
      "provenance": []
    },
    "kernelspec": {
      "name": "python3",
      "display_name": "Python 3"
    },
    "language_info": {
      "name": "python"
    }
  },
  "cells": [
    {
      "cell_type": "markdown",
      "source": [
        "**PythonNotebook: Basic, array, list, matrix, string, dictionary, tuple, sorting, searching, pattern**"
      ],
      "metadata": {
        "id": "E05lpZ8lkV0i"
      }
    },
    {
      "cell_type": "code",
      "execution_count": null,
      "metadata": {
        "colab": {
          "base_uri": "https://localhost:8080/"
        },
        "id": "ooRgeCkq8VP0",
        "outputId": "a436ae1f-d945-4b35-faec-bf088012592d"
      },
      "outputs": [
        {
          "output_type": "stream",
          "name": "stdout",
          "text": [
            "sum of two numbers 3\n"
          ]
        }
      ],
      "source": [
        "#Sum of two numbers\n",
        "a=1\n",
        "b=2\n",
        "sum=a+b\n",
        "print(\"sum of two numbers\", sum)\n"
      ]
    },
    {
      "cell_type": "code",
      "source": [
        "#sum with functions\n",
        "def add(a,b):\n",
        " return a+b\n",
        "\n",
        "num1= 4\n",
        "num2= 5\n",
        "\n",
        "sum= add(num1,num2)\n",
        "\n",
        "print(\"Sum of two numbers\", sum)"
      ],
      "metadata": {
        "colab": {
          "base_uri": "https://localhost:8080/"
        },
        "id": "LlqTGhuA9woR",
        "outputId": "aa17c04e-157d-4801-d04a-6855f9be42b4"
      },
      "execution_count": null,
      "outputs": [
        {
          "output_type": "stream",
          "name": "stdout",
          "text": [
            "Sum of two numbers 9\n"
          ]
        }
      ]
    },
    {
      "cell_type": "code",
      "source": [
        "#max of number with built in func\n",
        "a=10\n",
        "b=45\n",
        "\n",
        "maximum=max(a,b)\n",
        "\n",
        "print(\"maximum is\", maximum)"
      ],
      "metadata": {
        "colab": {
          "base_uri": "https://localhost:8080/"
        },
        "id": "6Us4bCsY-eCk",
        "outputId": "8f06e3b4-eb15-464e-bb39-75a592d6a4bd"
      },
      "execution_count": null,
      "outputs": [
        {
          "output_type": "stream",
          "name": "stdout",
          "text": [
            "maximum is 45\n"
          ]
        }
      ]
    },
    {
      "cell_type": "code",
      "source": [
        "#max with custom function\n",
        "def max(a,b):\n",
        "    if a>b:\n",
        "      return a\n",
        "    if a<b:\n",
        "      return b\n",
        "\n",
        "num1= 3\n",
        "num2= 5\n",
        "maximum= max(num1, num2)\n",
        "print(\"maximum is\", maximum)"
      ],
      "metadata": {
        "colab": {
          "base_uri": "https://localhost:8080/"
        },
        "id": "HdQVKKUp_J9w",
        "outputId": "ef2761b0-7282-4e72-81fe-39245f6e0845"
      },
      "execution_count": null,
      "outputs": [
        {
          "output_type": "stream",
          "name": "stdout",
          "text": [
            "maximum is 5\n"
          ]
        }
      ]
    },
    {
      "cell_type": "code",
      "source": [
        "#factorial of a number\n",
        "def fac(a):\n",
        "  if a<0:\n",
        "    return 0\n",
        "  elif a==0 or a==1:\n",
        "    return 1\n",
        "  else:\n",
        "    fact=1\n",
        "    for i in range(1, a+1):\n",
        "      fact *= i\n",
        "    return fact\n",
        "\n",
        "num= 5\n",
        "factorial= fac(num)\n",
        "print(\"factorial of num is\", factorial)"
      ],
      "metadata": {
        "colab": {
          "base_uri": "https://localhost:8080/"
        },
        "id": "C8rEsDOb_rk9",
        "outputId": "a562718e-dd0c-41af-a517-734cc648bc58"
      },
      "execution_count": null,
      "outputs": [
        {
          "output_type": "stream",
          "name": "stdout",
          "text": [
            "factorial of num is 120\n"
          ]
        }
      ]
    },
    {
      "cell_type": "code",
      "source": [
        "#factorial of a number with func\n",
        "def factorial(a):\n",
        "  if a<0:\n",
        "    return 0\n",
        "  elif a==0 or a==1:\n",
        "    return 1\n",
        "  else:\n",
        "    return a * factorial(a-1)\n",
        "\n",
        "\n",
        "num=10\n",
        "fact= factorial(num)\n",
        "print(\"factorial is =\", fact)"
      ],
      "metadata": {
        "colab": {
          "base_uri": "https://localhost:8080/"
        },
        "id": "SXAc_7mNBG9a",
        "outputId": "3e23104a-f266-4c82-df2b-43bb94e42075"
      },
      "execution_count": null,
      "outputs": [
        {
          "output_type": "stream",
          "name": "stdout",
          "text": [
            "factorial is = 3628800\n"
          ]
        }
      ]
    },
    {
      "cell_type": "code",
      "source": [
        "#fibonacci series\n",
        "def Fibonacci(n):\n",
        "   if n<=0:\n",
        "    print(\"incorrect\")\n",
        "   elif n==1:\n",
        "    return 1\n",
        "   elif n==2:\n",
        "    return 1\n",
        "   else:\n",
        "    return Fibonacci(n-1)+Fibonacci(n-2)\n",
        "\n",
        "print(Fibonacci(7))\n",
        "\n",
        "\n"
      ],
      "metadata": {
        "colab": {
          "base_uri": "https://localhost:8080/"
        },
        "id": "uXONPqLpJ8Wa",
        "outputId": "523eaf6c-3888-4729-9374-831a3cfd5bf0"
      },
      "execution_count": null,
      "outputs": [
        {
          "output_type": "stream",
          "name": "stdout",
          "text": [
            "13\n"
          ]
        }
      ]
    },
    {
      "cell_type": "code",
      "source": [
        "#sum of squares of a number\n",
        "\n",
        "def sum_sq(a):\n",
        "  sum=0\n",
        "  for i in range(1, a+1):\n",
        "    sum=sum+(i*i)\n",
        "  return sum\n",
        "\n",
        "num= 8\n",
        "result= sum_sq(num)\n",
        "print(\"sum of squares of a number\", result)\n"
      ],
      "metadata": {
        "colab": {
          "base_uri": "https://localhost:8080/"
        },
        "id": "QYthBVlGStEC",
        "outputId": "2bc595fe-af0e-4760-f501-0687863c66ff"
      },
      "execution_count": null,
      "outputs": [
        {
          "output_type": "stream",
          "name": "stdout",
          "text": [
            "sum of squares of a number 204\n"
          ]
        }
      ]
    },
    {
      "cell_type": "code",
      "source": [
        "#sum of array\n",
        "def sum(arr):\n",
        "\n",
        " total_sum=0\n",
        " for i in range(len(arr)):\n",
        "   total_sum += arr[i]\n",
        " return total_sum\n",
        "\n",
        "values = []\n",
        "\n",
        "arr = int(input(\"Enter the number of elements in your array: \"))\n",
        "for i in range(arr):\n",
        "    value = int(input(f\"Enter element {i + 1}: \"))\n",
        "    values.append(value)\n",
        "\n",
        "sumarray= sum(values)\n",
        "print(\"sum of array is\", sumarray)"
      ],
      "metadata": {
        "colab": {
          "base_uri": "https://localhost:8080/"
        },
        "id": "eCeK8Af2bGW0",
        "outputId": "76423491-7fc4-459b-9ae1-50de1ad62a15"
      },
      "execution_count": null,
      "outputs": [
        {
          "output_type": "stream",
          "name": "stdout",
          "text": [
            "Enter the number of elements in your array: 5\n",
            "Enter element 1: 2\n",
            "Enter element 2: 3\n",
            "Enter element 3: 4\n",
            "Enter element 4: 5\n",
            "Enter element 5: 6\n",
            "sum of array is 20\n"
          ]
        }
      ]
    },
    {
      "cell_type": "code",
      "source": [
        "#to print ASC II values\n",
        "a= 'k'\n",
        "print(\"the ASCII value of \" + a + \" is\", ord(a) )"
      ],
      "metadata": {
        "colab": {
          "base_uri": "https://localhost:8080/"
        },
        "id": "q8tDMEu7gToO",
        "outputId": "a826105b-5114-4365-9a8c-224bbcde9a2b"
      },
      "execution_count": null,
      "outputs": [
        {
          "output_type": "stream",
          "name": "stdout",
          "text": [
            "the ASCII value of k is 107\n"
          ]
        }
      ]
    },
    {
      "cell_type": "code",
      "source": [
        "#reverse of array\n",
        "def reverse_array(arr):\n",
        "  arr.reverse()\n",
        "  return arr\n",
        "\n",
        "values=[]\n",
        "arr = int(input(\"Enter the number of elements in your array: \"))\n",
        "for i in range(arr):\n",
        "    value = int(input(f\"Enter element {i + 1}: \"))\n",
        "    values.append(value)\n",
        "print(\"orignal array\", values)\n",
        "array_=reverse_array(values)\n",
        "\n",
        "print(\"reversed array\", array_)"
      ],
      "metadata": {
        "colab": {
          "base_uri": "https://localhost:8080/"
        },
        "id": "jd-oXABn2R0o",
        "outputId": "5f5eaeb7-5e1d-442e-98c2-b9e443f2a106"
      },
      "execution_count": null,
      "outputs": [
        {
          "output_type": "stream",
          "name": "stdout",
          "text": [
            "Enter the number of elements in your array: 3\n",
            "Enter element 1: 2\n",
            "Enter element 2: 3\n",
            "Enter element 3: 4\n",
            "orignal array [2, 3, 4]\n",
            "reversed array [4, 3, 2]\n"
          ]
        }
      ]
    },
    {
      "cell_type": "code",
      "source": [
        "#rotation od array\n",
        "def left_rotate_array(arr, d):\n",
        "   # To handle cases where d is larger than the array size\n",
        "\n",
        "    n = len(arr)\n",
        "    d = d % n\n",
        "    # Perform the left rotation using slicing\n",
        "    rotated_array = arr[d:] + arr[:d]\n",
        "    return rotated_array\n",
        "\n",
        "array = [1, 2, 3, 4, 5]\n",
        "rotation_steps = 1\n",
        "rotated_array = left_rotate_array(array, rotation_steps)\n",
        "\n",
        "print(\"Original array:\", array)\n",
        "print(\"Array after\", rotation_steps, \"left rotation(s):\", rotated_array)\n",
        "\n"
      ],
      "metadata": {
        "colab": {
          "base_uri": "https://localhost:8080/"
        },
        "id": "25L4eMD63RAR",
        "outputId": "854c8024-cf39-4606-ec8e-ac9e88166480"
      },
      "execution_count": null,
      "outputs": [
        {
          "output_type": "stream",
          "name": "stdout",
          "text": [
            "Original array: [1, 2, 3, 4, 5]\n",
            "Array after 1 left rotation(s): [2, 3, 4, 5, 1]\n"
          ]
        }
      ]
    },
    {
      "cell_type": "code",
      "source": [
        "#swap of array 1st and last element\n",
        "def swap(arr):\n",
        "  size=len(arr)\n",
        "  temp=arr[0]\n",
        "  arr[0]= arr[size-1]\n",
        "  arr[size-1]=temp\n",
        "  return arr\n",
        "\n",
        "values=[]\n",
        "arraylist = int(input(\"Enter the number of elements in your array: \"))\n",
        "for i in range(arraylist):\n",
        "    value = int(input(f\"Enter element {i + 1}: \"))\n",
        "    values.append(value)\n",
        "print(\"orignal array\", values)\n",
        "swapped= swap(values)\n",
        "print(\"after swapping array is\", swapped)\n",
        "\n",
        "\n",
        "\n",
        "\n"
      ],
      "metadata": {
        "colab": {
          "base_uri": "https://localhost:8080/"
        },
        "id": "uTh1Pg0QGzV7",
        "outputId": "bf6a64ae-bd13-473a-baaa-8642321f8163"
      },
      "execution_count": 1,
      "outputs": [
        {
          "output_type": "stream",
          "name": "stdout",
          "text": [
            "Enter the number of elements in your array: 5\n",
            "Enter element 1: 2\n",
            "Enter element 2: 3\n",
            "Enter element 3: 5\n",
            "Enter element 4: 7\n",
            "Enter element 5: 8\n",
            "orignal array [2, 3, 5, 7, 8]\n",
            "after swapping array is [8, 3, 5, 7, 2]\n"
          ]
        }
      ]
    },
    {
      "cell_type": "code",
      "source": [
        "#Find the Length of a List in Python\n",
        "values=[]\n",
        "\n",
        "for i in range(arraylist):\n",
        "    value = int(input(f\"Enter element: \"))\n",
        "    values.append(value)\n",
        "\n",
        "arraylength=len(values)\n",
        "print(\"The length of list is: \", arraylength)"
      ],
      "metadata": {
        "colab": {
          "base_uri": "https://localhost:8080/"
        },
        "id": "yRooRK5iG223",
        "outputId": "1d101078-d201-4c25-fecd-ee5b4d9541ff"
      },
      "execution_count": null,
      "outputs": [
        {
          "output_type": "stream",
          "name": "stdout",
          "text": [
            "Enter element: 1\n",
            "Enter element: 2\n",
            "The length of list is:  2\n"
          ]
        }
      ]
    },
    {
      "cell_type": "code",
      "source": [
        "# Reversing a list using slicing technique\n",
        "def Reverse(list):\n",
        "   new_lst = list[::-1]\n",
        "   return new_lst\n",
        "\n",
        "\n",
        "list = [20,23,67,89,22,49]\n",
        "\n",
        "print(Reverse(list))"
      ],
      "metadata": {
        "colab": {
          "base_uri": "https://localhost:8080/"
        },
        "id": "1zDoqxrNJSKv",
        "outputId": "bdf9d755-8d07-47ec-edff-64f726746aaa"
      },
      "execution_count": null,
      "outputs": [
        {
          "output_type": "stream",
          "name": "stdout",
          "text": [
            "[49, 22, 89, 67, 23, 20]\n"
          ]
        }
      ]
    },
    {
      "cell_type": "code",
      "source": [
        " #code to copy a list\n",
        "\n",
        "def Copying(li1):\n",
        "    li_copy = []\n",
        "    li_copy.extend(li1)\n",
        "    return li_copy\n",
        "\n",
        "\n",
        "# Driver Code\n",
        "\n",
        "values=[]\n",
        "arraylist = int(input(\"Enter the number of elements in your array: \"))\n",
        "for i in range(arraylist):\n",
        "    value = int(input(f\"Enter element {i + 1}: \"))\n",
        "    values.append(value)\n",
        "print(\"Original List:\", values)\n",
        "li2 = Copying(values)\n",
        "\n",
        "print(\"After Copying:\", li2)"
      ],
      "metadata": {
        "colab": {
          "base_uri": "https://localhost:8080/"
        },
        "id": "eYDscV-CK4Lj",
        "outputId": "1cd107c1-1988-4808-8214-ae074f8f063a"
      },
      "execution_count": null,
      "outputs": [
        {
          "output_type": "stream",
          "name": "stdout",
          "text": [
            "Enter the number of elements in your array: 5\n",
            "Enter element 1: 9\n",
            "Enter element 2: 7\n",
            "Enter element 3: 6\n",
            "Enter element 4: 5\n",
            "Enter element 5: 4\n",
            "Original List: [9, 7, 6, 5, 4]\n",
            "After Copying: [9, 7, 6, 5, 4]\n"
          ]
        }
      ]
    },
    {
      "cell_type": "code",
      "source": [
        "#Addition of matrix\n",
        "def add_matrices(X, Y):\n",
        "    result = [[0, 0], [0, 0]]\n",
        "    for i in range(len(X)):\n",
        "        for j in range(len(X[0])):\n",
        "            result[i][j] = X[i][j] + Y[i][j]\n",
        "    return result\n",
        "\n",
        "# Input matrix X from the user\n",
        "# Create an empty matrix X\n",
        "X = []\n",
        "\n",
        "# Input elements for matrix X at runtime\n",
        "print(\"Enter the elements of matrix X (3x3):\")\n",
        "for i in range(2):\n",
        "    # Initialize an empty row for each iteration\n",
        "    row = []\n",
        "\n",
        "    # Input elements for the current row\n",
        "    for j in range(2):\n",
        "        element = int(input(f\"Enter element for row {i + 1}, column {j + 1}: \"))\n",
        "        row.append(element)\n",
        "\n",
        "    # Append the current row to the matrix X\n",
        "    X.append(row)\n",
        "\n",
        "# Print the matrix X\n",
        "print(\"Matrix X:\")\n",
        "for row in X:\n",
        "    print(row)\n",
        "\n",
        "\n",
        "# Input matrix Y from the user\n",
        "Y = []\n",
        "print(\"Enter the elements of matrix Y (3x3):\")\n",
        "for i in range(2):\n",
        "    # Initialize an empty row for each iteration\n",
        "    row = []\n",
        "\n",
        "    # Input elements for the current row\n",
        "    for j in range(2):\n",
        "        element = int(input(f\"Enter element for row {i + 1}, column {j + 1}: \"))\n",
        "        row.append(element)\n",
        "\n",
        "    # Append the current row to the matrix Y\n",
        "    Y.append(row)\n",
        "\n",
        "# Print the matrix X\n",
        "print(\"Matrix Y:\")\n",
        "for row in Y:\n",
        "    print(row)\n",
        "\n",
        "# Add matrices X and Y\n",
        "result_matrix = add_matrices(X, Y)\n",
        "\n",
        "# Print the result\n",
        "print(\"Resultant matrix:\")\n",
        "for row in result_matrix:\n",
        "    print(row)\n"
      ],
      "metadata": {
        "colab": {
          "base_uri": "https://localhost:8080/"
        },
        "id": "px2ubV9KMKjw",
        "outputId": "91c67297-8e67-4bd2-e8e6-900c252441bb"
      },
      "execution_count": 2,
      "outputs": [
        {
          "output_type": "stream",
          "name": "stdout",
          "text": [
            "Enter the elements of matrix X (3x3):\n",
            "Enter element for row 1, column 1: 3\n",
            "Enter element for row 1, column 2: 4\n",
            "Enter element for row 2, column 1: 5\n",
            "Enter element for row 2, column 2: 6\n",
            "Matrix X:\n",
            "[3, 4]\n",
            "[5, 6]\n",
            "Enter the elements of matrix Y (3x3):\n",
            "Enter element for row 1, column 1: 9\n",
            "Enter element for row 1, column 2: 8\n",
            "Enter element for row 2, column 1: 7\n",
            "Enter element for row 2, column 2: 4\n",
            "Matrix Y:\n",
            "[9, 8]\n",
            "[7, 4]\n",
            "Resultant matrix:\n",
            "[12, 12]\n",
            "[12, 10]\n"
          ]
        }
      ]
    },
    {
      "cell_type": "code",
      "source": [
        "# Python program to check if a string is palindrome or not\n",
        "\n",
        "# Input string from the user\n",
        "x = input(\"Enter a string: \")\n",
        "\n",
        "w = \"\"\n",
        "for i in x:\n",
        "    w = i + w\n",
        "\n",
        "if (x == w):\n",
        "    print(\"Yes, it is a palindrome.\")\n",
        "else:\n",
        "    print(\"No, it is not a palindrome.\")\n"
      ],
      "metadata": {
        "colab": {
          "base_uri": "https://localhost:8080/"
        },
        "id": "sWppGLOnSafP",
        "outputId": "8631235d-d667-462e-bce4-b80d8e76f3f0"
      },
      "execution_count": null,
      "outputs": [
        {
          "output_type": "stream",
          "name": "stdout",
          "text": [
            "Enter a string: madam\n",
            "Yes, it is a palindrome.\n"
          ]
        }
      ]
    },
    {
      "cell_type": "code",
      "source": [
        "# sum of all items in a Dictionary\n",
        "\n",
        "def Sum(dict):\n",
        "\n",
        "    sum = 0\n",
        "    for i in dict.values():\n",
        "        sum = sum + i\n",
        "\n",
        "    return sum\n",
        "\n",
        "\n",
        "# Driver Function\n",
        "dict = {'a': 100, 'b': 200, 'c': 300}\n",
        "print(\"Sum :\", Sum(dict))"
      ],
      "metadata": {
        "colab": {
          "base_uri": "https://localhost:8080/"
        },
        "id": "1Awf2z4WYE9x",
        "outputId": "0647fa8f-5476-4aef-cede-248bec140f62"
      },
      "execution_count": null,
      "outputs": [
        {
          "output_type": "stream",
          "name": "stdout",
          "text": [
            "Sum : 600\n"
          ]
        }
      ]
    },
    {
      "cell_type": "code",
      "source": [
        "\n",
        "#program to convert tuple into set\n",
        "\n",
        "# create tuple\n",
        "t = ('a', '33', 'z')\n",
        "\n",
        "# print tuple\n",
        "print(type(t), \"  \", t)\n",
        "\n",
        "# call set() method\n",
        "s = set(t)\n",
        "\n",
        "# print set\n",
        "print(type(s), \"  \", s)"
      ],
      "metadata": {
        "colab": {
          "base_uri": "https://localhost:8080/"
        },
        "id": "pTegQIn1gAr7",
        "outputId": "6ea53378-7d70-4341-9ce5-720239035a06"
      },
      "execution_count": null,
      "outputs": [
        {
          "output_type": "stream",
          "name": "stdout",
          "text": [
            "<class 'tuple'>    ('a', '33', 'z')\n",
            "<class 'set'>    {'z', 'a', '33'}\n"
          ]
        }
      ]
    },
    {
      "cell_type": "code",
      "source": [
        "dict={'name': 'Ali', 'city': 'lahore', 'phone': '2920393'}\n",
        "\n",
        "mydict= dict['phone']\n",
        "print(\"phone of ali is\", mydict)"
      ],
      "metadata": {
        "colab": {
          "base_uri": "https://localhost:8080/"
        },
        "id": "zZXm2D4KifPM",
        "outputId": "86f279d6-1f42-4b30-de90-cfce16f56dea"
      },
      "execution_count": null,
      "outputs": [
        {
          "output_type": "stream",
          "name": "stdout",
          "text": [
            "phone of ali is 2920393\n"
          ]
        }
      ]
    },
    {
      "cell_type": "code",
      "source": [
        "\n",
        "# Python program for implementation of Bubble Sort\n",
        "\n",
        "def bubbleSort(arr):\n",
        "\tn = len(arr)\n",
        "\t# optimize code\n",
        "\tswapped = False\n",
        "\t# Traverse through all array elements\n",
        "\tfor i in range(n-1):\n",
        "\t\t# Last i elements are already in place\n",
        "\t\tfor j in range(0, n-i-1):\n",
        "\n",
        "\t\t\t# traverse the array from 0 to n-i-1\n",
        "\n",
        "\t\t\tif arr[j] > arr[j + 1]:\n",
        "\t\t\t\tswapped = True\n",
        "\t\t\t\tarr[j], arr[j + 1] = arr[j + 1], arr[j]\n",
        "\n",
        "\t\tif not swapped:\n",
        "\t\t\t# if we haven't needed to make a single swap, we\n",
        "\t\t\t# can just exit the main loop.\n",
        "\t\t\treturn\n",
        "\n",
        "#input values from user\n",
        "values=[]\n",
        "arraylist = int(input(\"Enter the number of elements in your array: \"))\n",
        "for i in range(arraylist):\n",
        "    value = int(input(f\"Enter element {i + 1}: \"))\n",
        "    values.append(value)\n",
        "print(\"Original array:\", values)\n",
        "\n",
        "sorted_array= bubbleSort(values)\n",
        "for i in range(len(values)):\n",
        "\tprint(\"% d\" % values[i], end=\" \")\n"
      ],
      "metadata": {
        "colab": {
          "base_uri": "https://localhost:8080/"
        },
        "id": "QqmoOjlvi_Mm",
        "outputId": "478b7098-c103-4a1a-cd65-b9c1feeeca01"
      },
      "execution_count": null,
      "outputs": [
        {
          "output_type": "stream",
          "name": "stdout",
          "text": [
            "Enter the number of elements in your array: 5\n",
            "Enter element 1: 99\n",
            "Enter element 2: 22\n",
            "Enter element 3: 66\n",
            "Enter element 4: 43\n",
            "Enter element 5: 21\n",
            "Original array: [99, 22, 66, 43, 21]\n",
            " 21  22  43  66  99 "
          ]
        }
      ]
    },
    {
      "cell_type": "code",
      "source": [
        "#swapping of diagnols of same size\n",
        "def swap_diagonals(matrix):\n",
        "    n = len(matrix)\n",
        "    for i in range(n):\n",
        "        matrix[i][i], matrix[i][n - i - 1] = matrix[i][n - i - 1], matrix[i][i]\n",
        "\n",
        "# Create an empty matrix X\n",
        "matrix = []\n",
        "\n",
        "# Input elements for matrix X at runtime\n",
        "SizeOfArray=int(input((\"Enter the equal size of matrix X (nxn):\" )))\n",
        "for i in range(SizeOfArray):\n",
        "    # Initialize an empty row for each iteration\n",
        "    row = []\n",
        "\n",
        "    # Input elements for the current row\n",
        "    for j in range(SizeOfArray):\n",
        "        element = int(input(f\"Enter element for row {i + 1}, column {j + 1}: \"))\n",
        "        row.append(element)\n",
        "\n",
        "    # Append the current row to the matrix X\n",
        "    matrix.append(row)\n",
        "\n",
        "print(\"Original matrix:\")\n",
        "for row in matrix:\n",
        "    print(row)\n",
        "\n",
        "swap_diagonals(matrix)\n",
        "\n",
        "print(\"\\nMatrix after swapping diagonals:\")\n",
        "for row in matrix:\n",
        "    print(row)"
      ],
      "metadata": {
        "colab": {
          "base_uri": "https://localhost:8080/"
        },
        "id": "3XrCVciIrk3Q",
        "outputId": "20fc4fa8-100a-4594-ec0b-2c62ffadf097"
      },
      "execution_count": null,
      "outputs": [
        {
          "output_type": "stream",
          "name": "stdout",
          "text": [
            "Enter the equal size of matrix X (nxn):3\n",
            "Enter element for row 1, column 1: 1\n",
            "Enter element for row 1, column 2: 2\n",
            "Enter element for row 1, column 3: 3\n",
            "Enter element for row 2, column 1: 4\n",
            "Enter element for row 2, column 2: 5\n",
            "Enter element for row 2, column 3: 5\n",
            "Enter element for row 3, column 1: 6\n",
            "Enter element for row 3, column 2: 7\n",
            "Enter element for row 3, column 3: 8\n",
            "Original matrix:\n",
            "[1, 2, 3]\n",
            "[4, 5, 5]\n",
            "[6, 7, 8]\n",
            "\n",
            "Matrix after swapping diagonals:\n",
            "[3, 2, 1]\n",
            "[4, 5, 5]\n",
            "[8, 7, 6]\n"
          ]
        }
      ]
    },
    {
      "cell_type": "code",
      "source": [
        "#searching algo\n",
        "\n",
        "def search(arr, x):\n",
        "\n",
        "    for i in range(len(arr)):\n",
        "\n",
        "        if arr[i] == x:\n",
        "            return i\n",
        "\n",
        "    return -1\n",
        "\n",
        "x= int(input(\"enter value you want to search:\"))\n",
        "arr=[1, 0, 6,5,4,3,4,5,6,9,3,0,29]\n",
        "find= search(arr,x)\n",
        "print(\"your searched values is at\", find)"
      ],
      "metadata": {
        "id": "8BDPP6-Kwpgs",
        "colab": {
          "base_uri": "https://localhost:8080/"
        },
        "outputId": "c96f0cf2-cf95-421c-d638-4e6a7ec76fe1"
      },
      "execution_count": 4,
      "outputs": [
        {
          "output_type": "stream",
          "name": "stdout",
          "text": [
            "enter value you want to search:9\n",
            "your searched values is at 9\n"
          ]
        }
      ]
    },
    {
      "cell_type": "code",
      "source": [
        "def insertion_sort(arr):\n",
        "    for i in range(1, len(arr)):\n",
        "        key = arr[i]\n",
        "        j = i - 1\n",
        "        while j >= 0 and key < arr[j]:\n",
        "            arr[j + 1] = arr[j]\n",
        "            j -= 1\n",
        "        arr[j + 1] = key\n",
        "\n",
        "# Example usage:\n",
        "if __name__ == \"__main__\":\n",
        "    #unsorted_list = [64, 34, 25, 12, 22, 11, 90]\n",
        "\n",
        "    values=[]\n",
        "    arraylist = int(input(\"Enter the number of elements in your array: \"))\n",
        "    for i in range(arraylist):\n",
        "      value = int(input(f\"Enter element {i + 1}: \"))\n",
        "      values.append(value)\n",
        "    print(\"Unsorted list:\", values)\n",
        "\n",
        "    insertion_sort(values)\n",
        "\n",
        "    print(\"Sorted list:\", values)\n"
      ],
      "metadata": {
        "colab": {
          "base_uri": "https://localhost:8080/"
        },
        "id": "_f4PN6xe12wg",
        "outputId": "ad7ff23c-b87c-4125-80bb-4a58f5165c9b"
      },
      "execution_count": 6,
      "outputs": [
        {
          "output_type": "stream",
          "name": "stdout",
          "text": [
            "Enter the number of elements in your array: 5\n",
            "Enter element 1: 7\n",
            "Enter element 2: 9\n",
            "Enter element 3: 3\n",
            "Enter element 4: 4\n",
            "Enter element 5: 5\n",
            "Unsorted list: [7, 9, 3, 4, 5]\n",
            "Sorted list: [3, 4, 5, 7, 9]\n"
          ]
        }
      ]
    },
    {
      "cell_type": "code",
      "source": [
        "import datetime\n",
        "\n",
        "# using now() to get current time\n",
        "current_time = datetime.datetime.now()\n",
        "\n",
        "print(\"Time now at greenwich meridian is:\", current_time)"
      ],
      "metadata": {
        "colab": {
          "base_uri": "https://localhost:8080/"
        },
        "id": "CCLR70z7_O6X",
        "outputId": "3aa71eda-90e6-45ba-8551-887c1631d205"
      },
      "execution_count": 7,
      "outputs": [
        {
          "output_type": "stream",
          "name": "stdout",
          "text": [
            "Time now at greenwich meridian is: 2023-07-24 08:33:35.071036\n"
          ]
        }
      ]
    },
    {
      "cell_type": "code",
      "source": [
        "import re\n",
        "\n",
        "def check(str, pattern):\n",
        "\n",
        "    # _matching the strings\n",
        "    if re.search(pattern, str):\n",
        "        print(\"Valid String\")\n",
        "    else:\n",
        "        print(\"Invalid String\")\n",
        "\n",
        "pattern = re.compile('^[1234]+$')\n",
        "check('2134', pattern)\n",
        "check('349', pattern)"
      ],
      "metadata": {
        "colab": {
          "base_uri": "https://localhost:8080/"
        },
        "id": "S9SvoAxrCEKt",
        "outputId": "3b4cd568-ada7-4798-ff7d-b59d99ecb586"
      },
      "execution_count": 9,
      "outputs": [
        {
          "output_type": "stream",
          "name": "stdout",
          "text": [
            "Valid String\n",
            "Invalid String\n"
          ]
        }
      ]
    },
    {
      "cell_type": "code",
      "source": [
        "def get_tuple_size(tup):\n",
        "    return len(tup)\n",
        "if __name__ == \"__main__\":\n",
        "    my_tuple = (1, 2, 3, \"hello\", 4.5)\n",
        "    size = get_tuple_size(my_tuple)\n",
        "    print(\"Size of the tuple:\", size)\n"
      ],
      "metadata": {
        "colab": {
          "base_uri": "https://localhost:8080/"
        },
        "id": "A1UGzc3iCidp",
        "outputId": "0b346d43-f24c-4d90-b93f-e8c8ef65460a"
      },
      "execution_count": 10,
      "outputs": [
        {
          "output_type": "stream",
          "name": "stdout",
          "text": [
            "Size of the tuple: 5\n"
          ]
        }
      ]
    },
    {
      "cell_type": "code",
      "source": [],
      "metadata": {
        "id": "oD1XtBpZDEMf"
      },
      "execution_count": null,
      "outputs": []
    }
  ]
}